{
 "cells": [
  {
   "cell_type": "code",
   "execution_count": 1,
   "metadata": {},
   "outputs": [
    {
     "name": "stdout",
     "output_type": "stream",
     "text": [
      "Populating the interactive namespace from numpy and matplotlib\n"
     ]
    }
   ],
   "source": [
    "%pylab inline\n",
    "import sys\n",
    "sys.path.append('/workspaces/ddhdg/build/src/')\n",
    "\n",
    "import pyddhdg"
   ]
  },
  {
   "cell_type": "code",
   "execution_count": 2,
   "metadata": {},
   "outputs": [],
   "source": [
    "DIM = 1\n",
    "\n",
    "# Description of the domain\n",
    "LEFT_DOMAIN = 0.\n",
    "RIGHT_DOMAIN = 6.\n",
    "\n",
    "UNIT_SCALE = 1e-6\n",
    "\n",
    "# Properties of the material\n",
    "Nc = 4.351959895879690e23\n",
    "Nv = 9.139615903601645e24\n",
    "Ec = 1.424\n",
    "Ev = 0\n",
    "\n",
    "# Doping function constants\n",
    "R1 = 1 * (RIGHT_DOMAIN / 3.)\n",
    "R2 = 2 * (RIGHT_DOMAIN / 3.)\n",
    "\n",
    "ND = 1.0 * Nc\n",
    "NA = 0.46 * Nv\n",
    "\n",
    "\n",
    "# Permittivity constants (relative to epsilon0)\n",
    "eps_r = 12.9\n",
    "\n",
    "TEMPERATURE = 300\n",
    "\n",
    "\n",
    "MU_N = 0.85\n",
    "MU_P = 0.04\n",
    "\n",
    "\n",
    "def print_doping():\n",
    "    print('ND = {}'.format(ND))\n",
    "    print('NA = {}'.format(NA))\n",
    "\n",
    "    tmp = (Ec + Ev) / 2\n",
    "    tmp1 = 1/2 * TEMPERATURE * pyddhdg.Constants.kB / pyddhdg.Constants.q * np.log(Nc/Nv)\n",
    "    print(tmp - tmp1)"
   ]
  },
  {
   "cell_type": "code",
   "execution_count": 3,
   "metadata": {},
   "outputs": [],
   "source": [
    "def generate_problem(device_type, boundary_condition_handler=None):\n",
    "    if device_type not in ('n-i-p', 'n-i-n', 'i-i-i'):\n",
    "        raise ValueError('Invalid device type: {}'.format(device_type))\n",
    "\n",
    "    # If no boundary conditions, then use homogeneous Dirichlet boundary\n",
    "    # conditions on the left and on the right and homogeneous neumann boundary\n",
    "    # conditions on the others sides\n",
    "    if boundary_condition_handler is None:\n",
    "        boundary_condition_handler = pyddhdg.BoundaryConditionHandler[DIM]()\n",
    "\n",
    "        for component in pyddhdg.Components:\n",
    "            for i in range(2):\n",
    "                boundary_condition_handler.add_boundary_condition(\n",
    "                    i,\n",
    "                    pyddhdg.BoundaryConditionType.DIRICHLET,\n",
    "                    component,\n",
    "                    \"0\"\n",
    "                )\n",
    "\n",
    "    eps0 = pyddhdg.Constants.eps0\n",
    "    permittivity = pyddhdg.HomogeneousPermittivity[DIM](eps_r * eps0)\n",
    "\n",
    "    temperature = pyddhdg.DealIIFunction[DIM](TEMPERATURE)\n",
    "\n",
    "    if device_type == 'i-i-i':\n",
    "        doping = pyddhdg.DealIIFunction[DIM](0)\n",
    "    else:\n",
    "        k = -NA\n",
    "        if device_type == 'n-i-n':\n",
    "            k = ND\n",
    "        # Doping is ND from 0 to R1, 0 from R1 to R2 and k from R2 to\n",
    "        # the end of the domain\n",
    "        doping = pyddhdg.PiecewiseFunction[DIM](\n",
    "            pyddhdg.AnalyticFunction[DIM](\"{:.2e} - x\".format(R1)),\n",
    "            pyddhdg.DealIIFunction[DIM](ND),\n",
    "            pyddhdg.PiecewiseFunction[DIM](\n",
    "                pyddhdg.AnalyticFunction[DIM](\"{:.2e} - x\".format(R2)),\n",
    "                pyddhdg.DealIIFunction[DIM](0),\n",
    "                pyddhdg.DealIIFunction[DIM](k)\n",
    "            )\n",
    "        )\n",
    "\n",
    "    electron_mobility = pyddhdg.HomogeneousMobility[DIM](MU_N, pyddhdg.Components.n)\n",
    "    hole_mobility = pyddhdg.HomogeneousMobility[DIM](MU_P, pyddhdg.Components.p)\n",
    "\n",
    "    # We are not using a valid recombination term at the moment\n",
    "    # Indeed, it is always 0\n",
    "    recombination_term = pyddhdg.LinearRecombinationTerm[DIM](\n",
    "        pyddhdg.DealIIFunction[DIM](0.),\n",
    "        pyddhdg.DealIIFunction[DIM](0.),\n",
    "        pyddhdg.DealIIFunction[DIM](0.),\n",
    "    )\n",
    "\n",
    "    problem = pyddhdg.Problem[DIM](\n",
    "        left=LEFT_DOMAIN,\n",
    "        right=RIGHT_DOMAIN,\n",
    "        permittivity=permittivity,\n",
    "        electron_mobility=electron_mobility,\n",
    "        hole_mobility=hole_mobility,\n",
    "        recombination_term=recombination_term,\n",
    "        temperature=temperature,\n",
    "        doping=doping,\n",
    "        boundary_condition_handler=boundary_condition_handler,\n",
    "        conduction_band_density=Nc,\n",
    "        valence_band_density=Nv,\n",
    "        conduction_band_edge_energy=Ec,\n",
    "        valence_band_edge_energy=Ev\n",
    "    )\n",
    "\n",
    "    return problem\n",
    "\n",
    "\n",
    "def generate_adimensionalizer():\n",
    "    adimensionalizer = pyddhdg.Adimensionalizer(\n",
    "        UNIT_SCALE,\n",
    "        pyddhdg.Constants.q / pyddhdg.Constants.kB,\n",
    "        max(ND, NA)\n",
    "    )\n",
    "    return adimensionalizer"
   ]
  },
  {
   "cell_type": "code",
   "execution_count": 4,
   "metadata": {},
   "outputs": [],
   "source": [
    "DEVICE = 'n-i-p'\n",
    "\n",
    "V_DEGREE = 0\n",
    "N_AND_P_DEGREE = 0\n",
    "TAU_V = 1e1\n",
    "TAU_NP = 1e1\n",
    "\n",
    "\n",
    "def prepare_solver(boundary_condition_handler=None, verbose=True):\n",
    "    problem = generate_problem(DEVICE, boundary_condition_handler)\n",
    "    adimensionalizer = generate_adimensionalizer()\n",
    "    parameters=pyddhdg.NPSolverParameters['FixedTau'](\n",
    "        v_degree=V_DEGREE,\n",
    "        n_degree=N_AND_P_DEGREE,\n",
    "        p_degree=N_AND_P_DEGREE,\n",
    "        v_tau=TAU_V,\n",
    "        n_tau=TAU_NP,\n",
    "        p_tau=TAU_NP,\n",
    "        multithreading=False\n",
    "    )\n",
    "    s = pyddhdg.NPSolver[DIM](problem, parameters, adimensionalizer, verbose=verbose)\n",
    "    return s\n",
    "    \n",
    "    \n",
    "def copy_boundary_conditions(s):\n",
    "    # Prepare the boundary conditions for the real problem (copying the values of the\n",
    "    # current solution)\n",
    "    bc = ({}, {})\n",
    "    # p is a tuple of two points that are in the middle of the left and right boundary\n",
    "    # faces of the domain\n",
    "    if DIM == 1:\n",
    "        p = pyddhdg.Point[DIM](LEFT_DOMAIN), pyddhdg.Point[DIM](RIGHT_DOMAIN)\n",
    "    else:\n",
    "        middle = (LEFT_DOMAIN + RIGHT_DOMAIN) * 0.5\n",
    "        left_pos = [LEFT_DOMAIN] + [middle] * (DIM -1)\n",
    "        right_pos = [RIGHT_DOMAIN] + [middle] * (DIM -1)\n",
    "        p = pyddhdg.Point[DIM](*left_pos), pyddhdg.Point[DIM](*right_pos)\n",
    "\n",
    "    for i in range(2):\n",
    "        bc[i][pyddhdg.Components.v] = s.get_solution_on_a_point(p[i], pyddhdg.Components.v)\n",
    "\n",
    "        for cmp in (pyddhdg.Components.n, pyddhdg.Components.p):\n",
    "            bc[i][cmp] = s.compute_density(\n",
    "                quasi_fermi_potential=0,\n",
    "                electric_potential=bc[i][pyddhdg.Components.v],\n",
    "                temperature=TEMPERATURE,\n",
    "                component=cmp\n",
    "            )\n",
    "\n",
    "    # Put the boundary conditions inside a boundary condition handler\n",
    "    boundary_condition_handler = pyddhdg.BoundaryConditionHandler[DIM]()\n",
    "    for cmp in pyddhdg.Components:\n",
    "        for i in range(2):\n",
    "            boundary_condition_handler.add_boundary_condition(\n",
    "                i,\n",
    "                pyddhdg.BoundaryConditionType.DIRICHLET,\n",
    "                cmp,\n",
    "                \"{}\".format(bc[i][cmp])\n",
    "            )\n",
    "    return boundary_condition_handler\n",
    "\n",
    "    # IGNORE EVERYTHING FROM HERE ON\n",
    "    new_problem = generate_problem(DEVICE, boundary_condition_handler)\n",
    "    new_solver = pyddhdg.NPSolver[DIM](new_problem, parameters, adimensionalizer, verbose=True)\n",
    "    new_solver.copy_triangulation_from(s)\n",
    "    new_solver.copy_solution_from(s)\n",
    "\n",
    "    print('Computing the values of n and p at the equilibrium...')\n",
    "    new_solver.disable_component(pyddhdg.Components.v)\n",
    "    new_solver.run()\n",
    "    print('Done!')\n",
    "\n",
    "    return new_solver\n",
    "\n",
    "\n",
    "def print_convergence_info(res):\n",
    "    if res.converged:\n",
    "        print(\"Converged in\", res.iterations, 'iterations. Last update norm:', res.last_update_norm)\n",
    "    else:\n",
    "        print('NOT converged')\n"
   ]
  },
  {
   "cell_type": "code",
   "execution_count": 5,
   "metadata": {},
   "outputs": [
    {
     "name": "stdout",
     "output_type": "stream",
     "text": [
      "Converged in 4 iterations. Last update norm: 5.824991841660448e-12\n"
     ]
    }
   ],
   "source": [
    "# Solve thermodynamical equilibrium\n",
    "\n",
    "REFINEMENTS = 5\n",
    "\n",
    "equilibrium_solver = prepare_solver(verbose=True)\n",
    "equilibrium_solver.refine_grid(REFINEMENTS)\n",
    "\n",
    "res = equilibrium_solver.compute_thermodynamic_equilibrium()\n",
    "print_convergence_info(res)"
   ]
  },
  {
   "cell_type": "code",
   "execution_count": 6,
   "metadata": {},
   "outputs": [
    {
     "data": {
      "image/png": "[encoded data removed]",
      "text/plain": [
       "<Figure size 648x432 with 1 Axes>"
      ]
     },
     "metadata": {
      "needs_background": "light"
     },
     "output_type": "display_data"
    }
   ],
   "source": [
    "fig = figure(figsize=(9,6))\n",
    "# equilibrium_solver.plot_solution(pyddhdg.Components.n, colors='green')\n",
    "# equilibrium_solver.plot_solution(pyddhdg.Components.p, colors='blue')\n",
    "equilibrium_solver.plot_solution(pyddhdg.Components.v, colors='red')\n",
    "yscale('log')"
   ]
  },
  {
   "cell_type": "code",
   "execution_count": 7,
   "metadata": {},
   "outputs": [],
   "source": [
    "traces = equilibrium_solver.get_current_trace_vector()"
   ]
  },
  {
   "cell_type": "code",
   "execution_count": 8,
   "metadata": {},
   "outputs": [
    {
     "data": {
      "image/png": "[encoded data removed]",
      "text/plain": [
       "<Figure size 432x288 with 1 Axes>"
      ]
     },
     "metadata": {
      "needs_background": "light"
     },
     "output_type": "display_data"
    }
   ],
   "source": [
    "vhat = traces[pyddhdg.Components.v]\n",
    "\n",
    "plot(vhat, 'ro')\n",
    "yscale('log')"
   ]
  },
  {
   "cell_type": "code",
   "execution_count": 9,
   "metadata": {},
   "outputs": [],
   "source": [
    "vhat_new = - traces[pyddhdg.Components.v]"
   ]
  },
  {
   "cell_type": "code",
   "execution_count": 14,
   "metadata": {},
   "outputs": [
    {
     "data": {
      "text/plain": [
       "array([1.03512550e-01, 1.03511073e-01, 1.03508045e-01, 1.03504821e-01,\n",
       "       1.03501297e-01, 1.03497354e-01, 1.03492866e-01, 1.03487683e-01,\n",
       "       1.03481636e-01, 1.03474527e-01, 1.03466121e-01, 5.17307928e-02,\n",
       "       1.21175975e-08, 8.81213339e-10, 6.38021548e-11, 4.61796405e-12,\n",
       "       3.34237943e-13, 2.41914125e-14, 1.75097738e-15, 1.26791859e-16,\n",
       "       9.23637105e-18, 6.50775124e-19, 2.69225378e-25, 2.69223114e-25,\n",
       "       2.69221198e-25, 2.69219569e-25, 2.69218173e-25, 2.69216964e-25,\n",
       "       2.69215902e-25, 2.69214953e-25, 2.69214084e-25, 2.69213269e-25,\n",
       "       2.69212871e-25])"
      ]
     },
     "execution_count": 14,
     "metadata": {},
     "output_type": "execute_result"
    }
   ],
   "source": [
    "equilibrium_solver.set_current_trace_vector({pyddhdg.Components.v:vhat_new})\n",
    "traces = equilibrium_solver.get_current_trace_vector()\n",
    "vhat = traces[pyddhdg.Components.v]\n",
    "\n",
    "traces[pyddhdg.Components.n]"
   ]
  },
  {
   "cell_type": "code",
   "execution_count": null,
   "metadata": {},
   "outputs": [],
   "source": [
    "\n",
    "nhat = traces[pyddhdg.Components.n]\n",
    "phat = traces[pyddhdg.Components.p]\n",
    "\n",
    "plot(nhat-nhat.min(), 'ro')\n",
    "plot(phat-phat.min(), 'bo')\n",
    "yscale('log')\n"
   ]
  },
  {
   "cell_type": "code",
   "execution_count": null,
   "metadata": {},
   "outputs": [],
   "source": [
    "fig = figure(figsize=(9,6))\n",
    "# equilibrium_solver.plot_solution(pyddhdg.Components.n, colors='green')\n",
    "# equilibrium_solver.plot_solution(pyddhdg.Components.p, colors='blue')\n",
    "equilibrium_solver.plot_solution(pyddhdg.Components.v, colors='red')\n",
    "yscale('log')"
   ]
  },
  {
   "cell_type": "code",
   "execution_count": null,
   "metadata": {},
   "outputs": [],
   "source": [
    "# Solve only for n and p, given v\n",
    "bc_for_drift_diffusion = copy_boundary_conditions(equilibrium_solver)\n",
    "\n",
    "drift_diffusion_solver = prepare_solver(bc_for_drift_diffusion)\n",
    "drift_diffusion_solver.copy_triangulation_from(equilibrium_solver)\n",
    "drift_diffusion_solver.copy_solution_from(equilibrium_solver)\n",
    "drift_diffusion_solver.disable_component(pyddhdg.Components.v)\n",
    "new_res = drift_diffusion_solver.run()\n",
    "print_convergence_info(new_res)"
   ]
  },
  {
   "cell_type": "code",
   "execution_count": null,
   "metadata": {},
   "outputs": [],
   "source": [
    "fig = figure(figsize=(9,6))\n",
    "# equilibrium_solver.plot_solution(pyddhdg.Components.n, colors='green')\n",
    "# equilibrium_solver.plot_solution(pyddhdg.Components.p, colors='blue')\n",
    "drift_diffusion_solver.plot_solution(pyddhdg.Components.v, colors='red')\n",
    "yscale('log')"
   ]
  },
  {
   "cell_type": "code",
   "execution_count": null,
   "metadata": {},
   "outputs": [],
   "source": [
    "traces = solver.get_current_trace_vector()\n",
    "nhat = traces[pyddhdg.Components.n]\n",
    "phat = traces[pyddhdg.Components.p]"
   ]
  },
  {
   "cell_type": "code",
   "execution_count": null,
   "metadata": {},
   "outputs": [],
   "source": [
    "fig = figure(figsize=(9,6))\n",
    "drift_diffusion_solver.plot_solution(pyddhdg.Components.n, colors='green')\n",
    "drift_diffusion_solver.plot_solution(pyddhdg.Components.p, colors='blue')\n",
    "yscale('log')"
   ]
  },
  {
   "cell_type": "code",
   "execution_count": null,
   "metadata": {},
   "outputs": [],
   "source": [
    "figure(figsize=(12,6))\n",
    "plt.yscale('log')\n",
    "_ = plt.plot(np.abs(residual[pyddhdg.Components.n]), color=\"green\")\n",
    "_ = plt.plot(np.abs(residual[pyddhdg.Components.p]), color=\"blue\")\n",
    "# _ = plt.plot(np.abs(residual[pyddhdg.Components.v]), color=\"red\")"
   ]
  },
  {
   "cell_type": "code",
   "execution_count": null,
   "metadata": {},
   "outputs": [],
   "source": [
    "drift_diffusion_solver.enable_component(pyddhdg.Components.v)\n",
    "new_res = drift_diffusion_solver.run()\n",
    "print_convergence_info(new_res)"
   ]
  },
  {
   "cell_type": "code",
   "execution_count": null,
   "metadata": {},
   "outputs": [],
   "source": [
    "fig = figure(figsize=(9,6))\n",
    "drift_diffusion_solver.plot_solution(pyddhdg.Components.n, colors='green')\n",
    "drift_diffusion_solver.plot_solution(pyddhdg.Components.p, colors='blue')\n",
    "drift_diffusion_solver.plot_solution(pyddhdg.Components.v, colors='red')"
   ]
  },
  {
   "cell_type": "code",
   "execution_count": null,
   "metadata": {},
   "outputs": [],
   "source": [
    "# Let's check the residual of the full drift diffusion system\n",
    "drift_diffusion_solver.set_enabled_components(True, True, True)\n",
    "drift_diffusion_solver.assemble_system()\n",
    "\n",
    "residual = drift_diffusion_solver.get_residual()\n",
    "\n",
    "figure(figsize=(12,6))\n",
    "plt.yscale('log')\n",
    "_ = plt.plot(np.abs(residual[pyddhdg.Components.n]), color=\"green\")\n",
    "_ = plt.plot(np.abs(residual[pyddhdg.Components.p]), color=\"blue\")\n",
    "_ = plt.plot(np.abs(residual[pyddhdg.Components.v]), color=\"red\")"
   ]
  },
  {
   "cell_type": "code",
   "execution_count": null,
   "metadata": {},
   "outputs": [],
   "source": [
    "residual[pyddhdg.Components.n], residual[pyddhdg.Components.p]"
   ]
  },
  {
   "cell_type": "code",
   "execution_count": null,
   "metadata": {},
   "outputs": [],
   "source": [
    "fig = figure(figsize=(9,6))\n",
    "solver.plot_solution(pyddhdg.Components.n, colors='red')\n",
    "solver.plot_solution(pyddhdg.Components.p, colors='blue')\n",
    "yscale('log')"
   ]
  },
  {
   "cell_type": "code",
   "execution_count": null,
   "metadata": {},
   "outputs": [],
   "source": [
    "traces = solver.get_current_trace_vector()"
   ]
  },
  {
   "cell_type": "code",
   "execution_count": null,
   "metadata": {},
   "outputs": [],
   "source": [
    "traces = solver.get_current_trace_vector()\n",
    "nhat = traces[pyddhdg.Components.n]\n",
    "phat = traces[pyddhdg.Components.p]"
   ]
  },
  {
   "cell_type": "code",
   "execution_count": null,
   "metadata": {},
   "outputs": [],
   "source": [
    "plot(nhat, 'o')\n",
    "plot(phat, 'x')\n",
    "yscale('log')"
   ]
  },
  {
   "cell_type": "code",
   "execution_count": null,
   "metadata": {},
   "outputs": [],
   "source": [
    "nhat"
   ]
  },
  {
   "cell_type": "code",
   "execution_count": null,
   "metadata": {},
   "outputs": [],
   "source": []
  }
 ],
 "metadata": {
  "kernelspec": {
   "display_name": "Python 3",
   "language": "python",
   "name": "python3"
  },
  "language_info": {
   "codemirror_mode": {
    "name": "ipython",
    "version": 3
   },
   "file_extension": ".py",
   "mimetype": "text/x-python",
   "name": "python",
   "nbconvert_exporter": "python",
   "pygments_lexer": "ipython3",
   "version": "3.8.2"
  }
 },
 "nbformat": 4,
 "nbformat_minor": 4
}
